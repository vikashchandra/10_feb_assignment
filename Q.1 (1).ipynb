{
 "cells": [
  {
   "cell_type": "code",
   "execution_count": null,
   "id": "89662aa8-2433-433d-9cf8-5b898145b5b7",
   "metadata": {},
   "outputs": [],
   "source": [
    "\"\"\"\n",
    "Q.1. Which function is used to open a file? What are the\n",
    "different modes of opening a file? Explain each mode of file\n",
    "opening.\n",
    "\"\"\"\n",
    "\"\"\"\n",
    "solution:\n",
    "\n",
    "In Python, you can use the open() function to open a file. \n",
    "The open() function takes two main arguments: the file name\n",
    "(including its path) and the mode in which you want to open the\n",
    "file. Here's the basic syntax:\n",
    "file = open('filename', 'mode')\n",
    "\n",
    "Here are the different modes of opening a file in Python and\n",
    "their explanations:\n",
    "\n",
    "\"\"\""
   ]
  },
  {
   "cell_type": "code",
   "execution_count": 10,
   "id": "5c6e3064-5a55-4e72-ba7c-fcba267c20b0",
   "metadata": {},
   "outputs": [],
   "source": [
    "\"\"\"\n",
    "'w' (Write Mode):\n",
    "This mode is used to create a new file or overwrite the existing \n",
    "content of a file.\n",
    "If the file exists, it will truncate (delete) its content and \n",
    "start fresh.\n",
    "If the file does not exist, it will create a new file.\n",
    "Example:\n",
    "\n",
    "\"\"\"\n",
    "file = open('example.txt', 'w')\n"
   ]
  },
  {
   "cell_type": "code",
   "execution_count": null,
   "id": "f5d74998-d7b5-48d7-a370-78f790257669",
   "metadata": {},
   "outputs": [],
   "source": [
    "\"\"\"\n",
    "'r' (Read Mode):\n",
    "\n",
    "This is the default mode when you open a file.\n",
    "It allows you to read the contents of an existing file but does\n",
    "not allow you to modify or write to the file.\n",
    "\n",
    "If the file does not exist, it raises a File Not Found Error.\n",
    "\n",
    "Example:\n",
    "\n",
    "\"\"\"\n",
    "file = open('example.txt','r')"
   ]
  },
  {
   "cell_type": "code",
   "execution_count": null,
   "id": "f6549d83-18b9-4b8c-aaea-47d8ba427351",
   "metadata": {},
   "outputs": [],
   "source": [
    "\"\"\"\n",
    "'a' (Append Mode):\n",
    "This mode is used to open a file for writing but without \n",
    "truncating its existing content.\n",
    "If the file exists, it will position the file pointer at the end\n",
    "of the file, allowing you to append data to it.\n",
    "If the file does not exist, it will create a new file.\n",
    "Example:\n",
    "\"\"\"\n",
    "file = open('existing_file.txt', 'a')\n"
   ]
  },
  {
   "cell_type": "code",
   "execution_count": null,
   "id": "47d19069-3a28-45e9-b57b-74ad7a6c56c9",
   "metadata": {},
   "outputs": [],
   "source": [
    "\"\"\"\n",
    "'x' (Exclusive Creation Mode):\n",
    "This mode is used to create a new file, but it will raise a \n",
    "FileExistsError if the file already exists.\n",
    "It ensures that you don't accidentally overwrite an existing file.\n",
    "Example:\n",
    "\"\"\"\n",
    "\n",
    "file = open('new_file.txt', 'x')\n"
   ]
  },
  {
   "cell_type": "code",
   "execution_count": null,
   "id": "17d2bea1-11fa-48ad-9b77-3e08daeabdf2",
   "metadata": {},
   "outputs": [],
   "source": [
    "\"\"\"\n",
    "'b' (Binary Mode):\n",
    "This mode is used in conjunction with other modes \n",
    "('r', 'w', 'a', 'x') to specify that the file should be opened \n",
    "in binary mode.\n",
    "It is often used for reading or writing binary data, such as\n",
    "images, videos, or non-text files.\n",
    "Example:\n",
    "\"\"\"\n",
    "\n",
    "file = open('binary_data.bin', 'rb')\n"
   ]
  },
  {
   "cell_type": "code",
   "execution_count": null,
   "id": "e22c1da2-1f3f-47c5-a82f-4f7a1bb227bd",
   "metadata": {},
   "outputs": [],
   "source": [
    "\"\"\"\n",
    "'t' (Text Mode):\n",
    "This mode is used in conjunction with other modes \n",
    "('r', 'w', 'a', 'x') to specify that the file should be opened\n",
    "in text mode.\n",
    "Text mode is the default mode and is used for working with text \n",
    "files.\n",
    "Example:\n",
    "\"\"\"\n",
    "\n",
    "file = open('text_file.txt', 'rt')\n",
    "\"\"\"\n",
    "You can also combine modes by specifying them as a string.\n",
    "For example, 'rb' means open the file in binary read mode, \n",
    "and 'w+' means open the file in write mode with the ability to\n",
    "read as well.\n",
    "\n",
    "It's important to remember to close the file after you're done\n",
    "using it by calling file.close() to free up system resources and \n",
    "ensure that any changes are saved. Alternatively, you can use a\n",
    "with statement to automatically close the file when you're done:\n",
    "\"\"\"\n",
    "\n",
    "\n",
    "with open('filename', 'mode') as file:\n",
    "    # Do operations on the file\n",
    "# File is automatically closed outside the 'with' block\n",
    "\"\"\"\n",
    "Using the with statement is a recommended practice as it helps\n",
    "prevent resource leaks and makes your code more robust.\n",
    "\"\"\""
   ]
  }
 ],
 "metadata": {
  "kernelspec": {
   "display_name": "Python 3 (ipykernel)",
   "language": "python",
   "name": "python3"
  },
  "language_info": {
   "codemirror_mode": {
    "name": "ipython",
    "version": 3
   },
   "file_extension": ".py",
   "mimetype": "text/x-python",
   "name": "python",
   "nbconvert_exporter": "python",
   "pygments_lexer": "ipython3",
   "version": "3.10.8"
  }
 },
 "nbformat": 4,
 "nbformat_minor": 5
}
