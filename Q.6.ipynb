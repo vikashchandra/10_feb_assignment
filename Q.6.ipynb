{
 "cells": [
  {
   "cell_type": "code",
   "execution_count": null,
   "id": "931213c9-b02f-44d9-a493-53b0c5cffafa",
   "metadata": {},
   "outputs": [],
   "source": [
    "\"\"\"\n",
    "Q.6.  Explain the write() and writelines() functions. Give a \n",
    "suitable example.\n",
    "\n",
    "Solution:\n",
    "In Python, the write() and writelines() functions are used to\n",
    "write data to a file. They are methods of the file object,\n",
    "which is typically created using the open() function to open a\n",
    "file for writing.\n",
    "\n",
    "write(): The write() method is used to write a single string or\n",
    "a sequence of characters to a file. It takes a single argument,\n",
    "which is the data you want to write to the file. If the file is\n",
    "opened in text mode (the default mode), you should provide a\n",
    "string as the argument. If the file is opened in binary mode, \n",
    "you should provide bytes.\n",
    "\n",
    "Here's an example of using the write() method to write a string \n",
    "to a text file:\n",
    "\n",
    "\"\"\""
   ]
  },
  {
   "cell_type": "code",
   "execution_count": null,
   "id": "81e8a5b7-27ce-4976-9c4f-51e3c855bacf",
   "metadata": {},
   "outputs": [],
   "source": [
    "\n",
    "# Open a file for writing (text mode)\n",
    "with open('example.txt', 'w') as file:\n",
    "    file.write('Hello, world!\\n')\n",
    "    file.write('This is a second line.')\n",
    "\n",
    "# The content has been written to the file.\n"
   ]
  },
  {
   "cell_type": "code",
   "execution_count": null,
   "id": "44f5166d-9a72-4411-8d2b-8926c2791259",
   "metadata": {},
   "outputs": [],
   "source": [
    "\"\"\"\n",
    "After running this code, you'll have a file named \"example.txt\"\n",
    "with the following content:\n",
    "\n",
    "\n",
    "Hello, world!\n",
    "This is a second line.\n",
    "\n",
    "\n",
    "writelines(): The writelines() method is used to write a sequence\n",
    "(e.g., a list or iterable) of strings to a file. It writes each \n",
    "string as a separate line in the file. Like write(), it also \n",
    "works in both text and binary mode.\n",
    "\n",
    "\n",
    "Here's an example of using the writelines() method to write\n",
    "multiple lines to a text file:\n",
    "\"\"\"\n",
    "\n",
    "# Open a file for writing (text mode)\n",
    "lines = ['Line 1\\n', 'Line 2\\n', 'Line 3\\n']\n",
    "\n",
    "with open('example.txt', 'w') as file:\n",
    "    file.writelines(lines)\n"
   ]
  },
  {
   "cell_type": "code",
   "execution_count": null,
   "id": "48d2064b-a38e-424d-8d1e-33bc76554e5f",
   "metadata": {},
   "outputs": [],
   "source": [
    "\"\"\"\n",
    "# The content has been written to the file.\n",
    "After running this code, the \"example.txt\" file will contain the\n",
    "following lines:\n",
    "\n",
    "\n",
    "Line 1\n",
    "Line 2\n",
    "Line 3\n",
    "\n",
    "\n",
    "Note that writelines() does not automatically add newline \n",
    "characters between lines, so you need to include them in the \n",
    "strings if you want each line to be on a separate line in the \n",
    "file."
   ]
  }
 ],
 "metadata": {
  "kernelspec": {
   "display_name": "Python 3 (ipykernel)",
   "language": "python",
   "name": "python3"
  },
  "language_info": {
   "codemirror_mode": {
    "name": "ipython",
    "version": 3
   },
   "file_extension": ".py",
   "mimetype": "text/x-python",
   "name": "python",
   "nbconvert_exporter": "python",
   "pygments_lexer": "ipython3",
   "version": "3.10.8"
  }
 },
 "nbformat": 4,
 "nbformat_minor": 5
}
