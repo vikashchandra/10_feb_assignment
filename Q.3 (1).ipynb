{
 "cells": [
  {
   "cell_type": "code",
   "execution_count": null,
   "id": "32aa9f1a-23ac-4164-bb6e-432e39ad8064",
   "metadata": {},
   "outputs": [],
   "source": [
    "\"\"\"\n",
    "Q.3.  Write a python program to create a text file.\n",
    "Write ‘I want to become a Data Scientist’ in that file.\n",
    "Then close the file. Open this file and read the content of the\n",
    "file.\n",
    "\n",
    "solution:\n",
    "\n",
    "You can create a text file, write the specified text to it, \n",
    "close the file, and then open it to read its contents using \n",
    "Python. Here's a simple program to do that:\n",
    "\n",
    "\"\"\""
   ]
  },
  {
   "cell_type": "code",
   "execution_count": null,
   "id": "5c32b85f-b77d-4ace-b08e-bb21f5a8b198",
   "metadata": {},
   "outputs": [],
   "source": []
  }
 ],
 "metadata": {
  "kernelspec": {
   "display_name": "Python 3 (ipykernel)",
   "language": "python",
   "name": "python3"
  },
  "language_info": {
   "codemirror_mode": {
    "name": "ipython",
    "version": 3
   },
   "file_extension": ".py",
   "mimetype": "text/x-python",
   "name": "python",
   "nbconvert_exporter": "python",
   "pygments_lexer": "ipython3",
   "version": "3.10.8"
  }
 },
 "nbformat": 4,
 "nbformat_minor": 5
}
