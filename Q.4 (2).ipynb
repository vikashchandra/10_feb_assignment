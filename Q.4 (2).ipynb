{
 "cells": [
  {
   "cell_type": "code",
   "execution_count": null,
   "id": "f9aa9ac1-3895-44e8-8ac4-9cf50503bf79",
   "metadata": {},
   "outputs": [],
   "source": [
    "\"\"\"\n",
    "Q.4. Explain the following with python code: read(), readline()\n",
    "and readlines().\n",
    "\n",
    "solution:\n",
    "In Python, read(), readline(), and readlines() are methods used \n",
    "to read data from a file. These methods are commonly used when \n",
    "working with text files. \n",
    "\n",
    "read():\n",
    "read() is used to read the entire content of a file as a single\n",
    "string.\n",
    "It reads the entire file or a specified number of characters if\n",
    "an argument is provided.\n",
    "After reading, the file pointer is positioned at the end of the\n",
    "file.\n",
    "\"\"\""
   ]
  },
  {
   "cell_type": "code",
   "execution_count": null,
   "id": "598e6d71-9a7d-495c-84b0-15242300fc7d",
   "metadata": {},
   "outputs": [],
   "source": [
    "# Example of using read() to read the entire file\n",
    "file_path = \"sample.txt\"\n",
    "\n",
    "with open(file_path, 'r') as file:\n",
    "    file_content = file.read()\n",
    "    \n",
    "print(file_content)"
   ]
  },
  {
   "cell_type": "code",
   "execution_count": null,
   "id": "b3cb8bfc-df39-499f-ae07-aeb7452539e4",
   "metadata": {},
   "outputs": [],
   "source": [
    "\"\"\"\n",
    "readline():\n",
    "readline() is used to read a single line from the file.\n",
    "It reads characters from the current file position until it encounters a newline character '\\n'.\n",
    "After reading a line, the file pointer moves to the beginning of the next line.\n",
    "\"\"\""
   ]
  },
  {
   "cell_type": "code",
   "execution_count": null,
   "id": "2bc97f17-b40d-464f-b14c-c0317707660b",
   "metadata": {},
   "outputs": [],
   "source": [
    "# Example of using readline() to read lines one by one\n",
    "file_path = \"sample.txt\"\n",
    "\n",
    "with open(file_path, 'r') as file:\n",
    "    line1 = file.readline()\n",
    "    line2 = file.readline()\n",
    "    \n",
    "print(\"Line 1:\", line1)\n",
    "print(\"Line 2:\", line2)"
   ]
  },
  {
   "cell_type": "code",
   "execution_count": null,
   "id": "b6b9d1dc-e2ac-4964-bc29-b2029e7d1d14",
   "metadata": {},
   "outputs": [],
   "source": [
    "\"\"\"\n",
    "readlines():\n",
    "readlines() is used to read all lines in the file and return them as a list of strings.\n",
    "Each string in the list corresponds to a line in the file.\n",
    "It reads until the end of the file.\n",
    "\"\"\"\n"
   ]
  },
  {
   "cell_type": "code",
   "execution_count": null,
   "id": "08e8d9a8-aef8-4659-ac1b-dc11a370b0fa",
   "metadata": {},
   "outputs": [],
   "source": [
    "# Example of using readlines() to read all lines into a list\n",
    "file_path = \"sample.txt\"\n",
    "\n",
    "with open(file_path, 'r') as file:\n",
    "    lines = file.readlines()\n",
    "\n",
    "# Print all lines\n",
    "for line in lines:\n",
    "    print(line, end=\"\")\n"
   ]
  }
 ],
 "metadata": {
  "kernelspec": {
   "display_name": "Python 3 (ipykernel)",
   "language": "python",
   "name": "python3"
  },
  "language_info": {
   "codemirror_mode": {
    "name": "ipython",
    "version": 3
   },
   "file_extension": ".py",
   "mimetype": "text/x-python",
   "name": "python",
   "nbconvert_exporter": "python",
   "pygments_lexer": "ipython3",
   "version": "3.10.8"
  }
 },
 "nbformat": 4,
 "nbformat_minor": 5
}
